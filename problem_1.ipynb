{
  "cells": [
    {
      "cell_type": "markdown",
      "metadata": {
        "id": "atqZGIIyNSBb"
      },
      "source": [
        "#**Практическое задание №1**"
      ]
    },
    {
      "cell_type": "markdown",
      "metadata": {
        "id": "ga5g3lUhNNBy"
      },
      "source": [
        "Установка необходимых пакетов:"
      ]
    },
    {
      "cell_type": "code",
      "execution_count": 1,
      "metadata": {
        "id": "TGBk36LpukIu",
        "colab": {
          "base_uri": "https://localhost:8080/"
        },
        "outputId": "2e761b82-e056-4e6a-ad34-97fd40d72826"
      },
      "outputs": [
        {
          "output_type": "stream",
          "name": "stdout",
          "text": [
            "Requirement already satisfied: gdown in /usr/local/lib/python3.10/dist-packages (5.2.0)\n",
            "Requirement already satisfied: beautifulsoup4 in /usr/local/lib/python3.10/dist-packages (from gdown) (4.12.3)\n",
            "Requirement already satisfied: filelock in /usr/local/lib/python3.10/dist-packages (from gdown) (3.16.1)\n",
            "Requirement already satisfied: requests[socks] in /usr/local/lib/python3.10/dist-packages (from gdown) (2.32.3)\n",
            "Requirement already satisfied: tqdm in /usr/local/lib/python3.10/dist-packages (from gdown) (4.66.6)\n",
            "Requirement already satisfied: soupsieve>1.2 in /usr/local/lib/python3.10/dist-packages (from beautifulsoup4->gdown) (2.6)\n",
            "Requirement already satisfied: charset-normalizer<4,>=2 in /usr/local/lib/python3.10/dist-packages (from requests[socks]->gdown) (3.4.0)\n",
            "Requirement already satisfied: idna<4,>=2.5 in /usr/local/lib/python3.10/dist-packages (from requests[socks]->gdown) (3.10)\n",
            "Requirement already satisfied: urllib3<3,>=1.21.1 in /usr/local/lib/python3.10/dist-packages (from requests[socks]->gdown) (2.2.3)\n",
            "Requirement already satisfied: certifi>=2017.4.17 in /usr/local/lib/python3.10/dist-packages (from requests[socks]->gdown) (2024.8.30)\n",
            "Requirement already satisfied: PySocks!=1.5.7,>=1.5.6 in /usr/local/lib/python3.10/dist-packages (from requests[socks]->gdown) (1.7.1)\n"
          ]
        }
      ],
      "source": [
        "!pip install -q tqdm\n",
        "!pip install --upgrade --no-cache-dir gdown"
      ]
    },
    {
      "cell_type": "markdown",
      "metadata": {
        "id": "2vQDLyHEO1Ux"
      },
      "source": [
        "Монтирование Вашего Google Drive к текущему окружению:"
      ]
    },
    {
      "cell_type": "code",
      "execution_count": 26,
      "metadata": {
        "id": "5G5KkA1Nu5M9",
        "colab": {
          "base_uri": "https://localhost:8080/"
        },
        "outputId": "32d1c37a-4989-41b5-cd54-99855b866f60"
      },
      "outputs": [
        {
          "output_type": "stream",
          "name": "stdout",
          "text": [
            "Mounted at /content/drive\n"
          ]
        }
      ],
      "source": [
        "from google.colab import drive\n",
        "drive.mount('/content/drive', force_remount=True)"
      ]
    },
    {
      "cell_type": "code",
      "source": [
        "from google.colab import drive\n",
        "drive.mount('/content/drive')"
      ],
      "metadata": {
        "id": "Xtyv68UdHhCp",
        "colab": {
          "base_uri": "https://localhost:8080/"
        },
        "outputId": "6c64a5d0-eb2a-47ef-cb21-710e51c8295f"
      },
      "execution_count": 3,
      "outputs": [
        {
          "output_type": "stream",
          "name": "stdout",
          "text": [
            "Drive already mounted at /content/drive; to attempt to forcibly remount, call drive.mount(\"/content/drive\", force_remount=True).\n"
          ]
        }
      ]
    },
    {
      "cell_type": "markdown",
      "metadata": {
        "id": "0Num5lHV6912"
      },
      "source": [
        "Константы, которые пригодятся в коде далее, и ссылки (gdrive идентификаторы) на предоставляемые наборы данных:"
      ]
    },
    {
      "cell_type": "code",
      "execution_count": 25,
      "metadata": {
        "id": "ab2yCwDm7Fqb"
      },
      "outputs": [],
      "source": [
        "EVALUATE_ONLY = True\n",
        "TEST_ON_LARGE_DATASET = True\n",
        "TISSUE_CLASSES = ('ADI', 'BACK', 'DEB', 'LYM', 'MUC', 'MUS', 'NORM', 'STR', 'TUM')\n",
        "DATASETS_LINKS = {\n",
        "    'train': '1XtQzVQ5XbrfxpLHJuL0XBGJ5U7CS-cLi',\n",
        "    'train_small': '1qd45xXfDwdZjktLFwQb-et-mAaFeCzOR',\n",
        "    'train_tiny': '1I-2ZOuXLd4QwhZQQltp817Kn3J0Xgbui',\n",
        "    'test': '1RfPou3pFKpuHDJZ-D9XDFzgvwpUBFlDr',\n",
        "    'test_small': '1wbRsog0n7uGlHIPGLhyN-PMeT2kdQ2lI',\n",
        "    'test_tiny': '1viiB0s041CNsAK4itvX8PnYthJ-MDnQc'\n",
        "}"
      ]
    },
    {
      "cell_type": "markdown",
      "metadata": {
        "id": "fgY-ux5qOI0k"
      },
      "source": [
        "Импорт необходимых зависимостей:"
      ]
    },
    {
      "cell_type": "code",
      "execution_count": 22,
      "metadata": {
        "id": "kLHQhqiSIyvK"
      },
      "outputs": [],
      "source": [
        "from pathlib import Path\n",
        "import os\n",
        "import numpy as np\n",
        "from typing import List\n",
        "from tqdm.notebook import tqdm\n",
        "from time import sleep\n",
        "from PIL import Image\n",
        "import IPython.display\n",
        "from sklearn.metrics import balanced_accuracy_score\n",
        "import gdown\n",
        "import tensorflow as tf\n",
        "import seaborn as sns\n",
        "from sklearn.utils import class_weight\n",
        "from sklearn.model_selection import train_test_split\n",
        "from sklearn.metrics import classification_report, confusion_matrix\n",
        "import matplotlib.pyplot as plt"
      ]
    },
    {
      "cell_type": "markdown",
      "metadata": {
        "id": "zKLI3lUyMYO9"
      },
      "source": [
        "---\n",
        "### Класс Dataset\n",
        "\n",
        "Предназначен для работы с наборами данных, обеспечивает чтение изображений и соответствующих меток, а также формирование пакетов (батчей)."
      ]
    },
    {
      "cell_type": "code",
      "execution_count": 27,
      "metadata": {
        "id": "8N169efsw1ej"
      },
      "outputs": [],
      "source": [
        "class Dataset:\n",
        "\n",
        "    def __init__(self, name):\n",
        "        self.name = name\n",
        "        self.is_loaded = False\n",
        "        url = f\"https://drive.google.com/uc?export=download&confirm=pbef&id={DATASETS_LINKS[name]}\"\n",
        "        output = f'{name}.npz'\n",
        "        gdown.download(url, output, quiet=False)\n",
        "        print(f'Loading dataset {self.name} from npz.')\n",
        "        np_obj = np.load(f'{name}.npz')\n",
        "        self.images = np_obj['data']\n",
        "        self.labels = np_obj['labels']\n",
        "        self.n_files = self.images.shape[0]\n",
        "        self.is_loaded = True\n",
        "        print(f'Done. Dataset {name} consists of {self.n_files} images.')\n",
        "\n",
        "    def image(self, i):\n",
        "        # read i-th image in dataset and return it as numpy array\n",
        "        if self.is_loaded:\n",
        "            return self.images[i, :, :, :]\n",
        "\n",
        "    def images_seq(self, n=None):\n",
        "        # sequential access to images inside dataset (is needed for testing)\n",
        "        for i in range(self.n_files if not n else n):\n",
        "            yield self.image(i)\n",
        "\n",
        "    def random_image_with_label(self):\n",
        "        # get random image with label from dataset\n",
        "        i = np.random.randint(self.n_files)\n",
        "        return self.image(i), self.labels[i]\n",
        "\n",
        "    def random_batch_with_labels(self, n):\n",
        "        # create random batch of images with labels (is needed for training)\n",
        "        indices = np.random.choice(self.n_files, n)\n",
        "        imgs = []\n",
        "        for i in indices:\n",
        "            img = self.image(i)\n",
        "            imgs.append(self.image(i))\n",
        "        logits = np.array([self.labels[i] for i in indices])\n",
        "        return np.stack(imgs), logits\n",
        "\n",
        "    def image_with_label(self, i: int):\n",
        "        # return i-th image with label from dataset\n",
        "        return self.image(i), self.labels[i]"
      ]
    },
    {
      "cell_type": "markdown",
      "metadata": {
        "id": "M-LvGqeHYgus"
      },
      "source": [
        "### Пример использвания класса Dataset\n",
        "Загрузим обучающий набор данных, получим произвольное изображение с меткой. После чего визуализируем изображение, выведем метку. В будущем, этот кусок кода можно закомментировать или убрать."
      ]
    },
    {
      "cell_type": "code",
      "execution_count": null,
      "metadata": {
        "id": "HhObWEjGJ1um",
        "colab": {
          "base_uri": "https://localhost:8080/",
          "height": 348
        },
        "outputId": "3227f9c2-c655-4a1c-83d6-d17756f59bc1"
      },
      "outputs": [
        {
          "output_type": "stream",
          "name": "stdout",
          "text": [
            "Загрузка набора данных train_tiny из файла /content/drive/MyDrive/train_tiny.npz.\n",
            "Готово. Набор данных train_tiny содержит 900 изображений.\n",
            "\n",
            "Got numpy array of shape (224, 224, 3), and label with code 1.\n",
            "Label code corresponds to BACK class.\n"
          ]
        },
        {
          "output_type": "display_data",
          "data": {
            "text/plain": [
              "<PIL.Image.Image image mode=RGB size=224x224>"
            ],
            "image/png": "[encoded data removed]",
            "image/jpeg": "[encoded data removed]"
          },
          "metadata": {}
        }
      ],
      "source": [
        "d_train_tiny = Dataset('train_tiny')\n",
        "\n",
        "img, lbl = d_train_tiny.random_image_with_label()\n",
        "print()\n",
        "print(f'Got numpy array of shape {img.shape}, and label with code {lbl}.')\n",
        "print(f'Label code corresponds to {TISSUE_CLASSES[lbl]} class.')\n",
        "\n",
        "pil_img = Image.fromarray(img)\n",
        "IPython.display.display(pil_img)"
      ]
    },
    {
      "cell_type": "markdown",
      "metadata": {
        "id": "qaBXXCWeVLYb"
      },
      "source": [
        "---\n",
        "### Класс Metrics\n",
        "\n",
        "Реализует метрики точности, используемые для оценивания модели:\n",
        "1. точность,\n",
        "2. сбалансированную точность."
      ]
    },
    {
      "cell_type": "code",
      "execution_count": 18,
      "metadata": {
        "id": "5unQ7azTinCZ"
      },
      "outputs": [],
      "source": [
        "class Metrics:\n",
        "\n",
        "    @staticmethod\n",
        "    def accuracy(gt: List[int], pred: List[int]):\n",
        "        assert len(gt) == len(pred), 'gt and prediction should be of equal length'\n",
        "        return sum(int(i[0] == i[1]) for i in zip(gt, pred)) / len(gt)\n",
        "\n",
        "    @staticmethod\n",
        "    def accuracy_balanced(gt: List[int], pred: List[int]):\n",
        "        return balanced_accuracy_score(gt, pred)\n",
        "\n",
        "    @staticmethod\n",
        "    def print_all(gt: List[int], pred: List[int], info: str):\n",
        "        print(f'metrics for {info}:')\n",
        "        print('\\t accuracy {:.4f}:'.format(Metrics.accuracy(gt, pred)))\n",
        "        print('\\t balanced accuracy {:.4f}:'.format(Metrics.accuracy_balanced(gt, pred)))"
      ]
    },
    {
      "cell_type": "markdown",
      "metadata": {
        "id": "N1AHzTJVGU5k"
      },
      "source": [
        "---\n",
        "### Класс Model\n",
        "\n",
        "Класс, хранящий в себе всю информацию о модели.\n",
        "\n",
        "\n",
        "Реализовано:\n",
        "1. **Валидация модели на части обучающей выборки**:\n",
        "В методе `train` происходит разделение данных на обучающую и валидационную выборки с использованием `train_test_split`.\n",
        "Валидационные данные передаются в `validation_data` во время вызова `self.model.fit`.\n",
        "2. **Автоматическое сохранение модели при обучении**:\n",
        "Используется `tf.keras.callbacks.ModelCheckpoint` для сохранения лучшей модели во время обучения `(save_best_only=True)`.\n",
        "\n",
        "3. **Загрузка модели с какой-то конкретной итерации обучения**:\n",
        "Метод `load` позволяет загрузить модель из указанного файла, что может использоваться для продолжения обучения.\n",
        "\n",
        "4. **Вывод различных показателей в процессе обучения**:\n",
        "Метод `fit` автоматически выводит значения функции потерь и точности на каждой эпохе.\n",
        "\n",
        "5. **Построение матрицы ошибок, оценивание чувствительности и специфичности модели**:\n",
        "В методе `test_on_dataset` строится матрица ошибок `(confusion_matrix)`, а также выводятся метрики `precision`, `recall`, `F1-score` с использованием `classification_report`.\n",
        "\n",
        "6. **Использование аугментации данных**:\n",
        "В методе `prepare_dataset` включена опция `augment`, которая вызывает метод `augment_image` для выполнения аугментации (перевороты, изменение яркости и контрастности)."
      ]
    },
    {
      "cell_type": "code",
      "execution_count": 19,
      "metadata": {
        "id": "0pkMiB6mJ7JQ"
      },
      "outputs": [],
      "source": [
        "class Model:\n",
        "    def __init__(self):\n",
        "        input_shape = (224, 224, 3)\n",
        "\n",
        "        self.model = tf.keras.Sequential([\n",
        "            tf.keras.layers.Input(shape=input_shape),\n",
        "            tf.keras.layers.Conv2D(32, (3, 3), activation='relu'),\n",
        "            tf.keras.layers.BatchNormalization(),\n",
        "            tf.keras.layers.MaxPooling2D((2, 2)),\n",
        "\n",
        "            tf.keras.layers.Conv2D(64, (3, 3), activation='relu'),\n",
        "            tf.keras.layers.BatchNormalization(),\n",
        "            tf.keras.layers.MaxPooling2D((2, 2)),\n",
        "\n",
        "            tf.keras.layers.Conv2D(128, (3, 3), activation='relu'),\n",
        "            tf.keras.layers.BatchNormalization(),\n",
        "            tf.keras.layers.MaxPooling2D((2, 2)),\n",
        "\n",
        "            tf.keras.layers.Conv2D(256, (3, 3), activation='relu'),\n",
        "            tf.keras.layers.BatchNormalization(),\n",
        "            tf.keras.layers.GlobalAveragePooling2D(),\n",
        "\n",
        "            tf.keras.layers.Dense(512, activation='relu'),\n",
        "            tf.keras.layers.Dropout(0.5),\n",
        "            tf.keras.layers.Dense(256, activation='relu'),\n",
        "            tf.keras.layers.Dropout(0.5),\n",
        "            tf.keras.layers.Dense(9, activation='softmax')  # output layer for 9 klasses\n",
        "        ])\n",
        "\n",
        "        self.model.compile(\n",
        "            optimizer=tf.keras.optimizers.Adam(learning_rate=1e-4),\n",
        "            loss='sparse_categorical_crossentropy',\n",
        "            metrics=['accuracy']\n",
        "        )\n",
        "\n",
        "        print(\"Model is ready\")\n",
        "\n",
        "    def save(self, name: str):\n",
        "        model_save_path = f'/content/drive/MyDrive/{name}.keras'\n",
        "        self.model.save(model_save_path)\n",
        "        print(f\"Model saved in {model_save_path}\")\n",
        "\n",
        "    def load(self, name: str): #LBL3\n",
        "        model_load_path = f'/content/drive/MyDrive/{name}.keras'\n",
        "        if not os.path.exists(model_load_path):\n",
        "          gdown.download(url=\"https://drive.google.com/uc?id=1_osFE42zSXnIGh6v9GqzSlS03JOPlgEL\", output=model_load_path, quiet=False)\n",
        "        self.model = tf.keras.models.load_model(model_load_path)\n",
        "        print(f\"Model downloaded {model_load_path}.\")\n",
        "\n",
        "\n",
        "\n",
        "    def train(self, dataset: Dataset):\n",
        "        print(f'Learning begins')\n",
        "        images = dataset.images\n",
        "        labels = dataset.labels\n",
        "\n",
        "        unique_labels, counts = np.unique(labels, return_counts=True) # checking distribution\n",
        "        print(\"Distribution the training data set:\")\n",
        "        for label, count in zip(unique_labels, counts):\n",
        "            print(f\"Class {label}: {count} images\")\n",
        "\n",
        "        class_weights_array = class_weight.compute_class_weight(\n",
        "            class_weight='balanced',\n",
        "            classes=unique_labels,\n",
        "            y=labels\n",
        "        )\n",
        "        class_weights = dict(enumerate(class_weights_array))\n",
        "\n",
        "        #LBL1\n",
        "        # dividing into train and val samples\n",
        "        train_images, val_images, train_labels, val_labels = train_test_split(\n",
        "            images, labels, test_size=0.2, stratify=labels, random_state=42\n",
        "        )\n",
        "\n",
        "        train_ds = self.prepare_dataset(train_images, train_labels, batch_size=16, augment=True)\n",
        "        val_ds = self.prepare_dataset(val_images, val_labels, batch_size=16)\n",
        "\n",
        "        callbacks = [\n",
        "            tf.keras.callbacks.ModelCheckpoint(\n",
        "                filepath='/content/drive/MyDrive/best_model.keras',\n",
        "                save_best_only=True #LBL2\n",
        "            ),\n",
        "            tf.keras.callbacks.EarlyStopping(patience=10, restore_best_weights=True),\n",
        "            tf.keras.callbacks.TensorBoard(log_dir='./logs')\n",
        "        ]\n",
        "\n",
        "        self.model.fit(\n",
        "            train_ds,\n",
        "            validation_data=val_ds,\n",
        "            epochs=20,\n",
        "            callbacks=callbacks,\n",
        "            class_weight=class_weights\n",
        "        ) #LBL4\n",
        "\n",
        "        print(f'Train ended')\n",
        "\n",
        "    def prepare_dataset(self, images, labels, batch_size, augment=False, shuffle=False):\n",
        "        dataset = tf.data.Dataset.from_tensor_slices((images, labels))\n",
        "\n",
        "        def preprocess(img, label):\n",
        "            img = tf.image.convert_image_dtype(img, tf.float32)\n",
        "            img = tf.image.resize(img, [224, 224])\n",
        "            if augment:\n",
        "                img = self.augment_image(img)\n",
        "            return img, label\n",
        "        if shuffle:\n",
        "          dataset = dataset.shuffle(buffer_size=1000)\n",
        "\n",
        "        dataset = dataset.map(preprocess, num_parallel_calls=tf.data.AUTOTUNE)\n",
        "        dataset = dataset.batch(batch_size)\n",
        "        dataset = dataset.prefetch(tf.data.AUTOTUNE)\n",
        "\n",
        "        return dataset\n",
        "\n",
        "    def augment_image(self, img): #LBL6\n",
        "        img = tf.image.random_flip_left_right(img)\n",
        "        img = tf.image.random_flip_up_down(img)\n",
        "        img = tf.image.random_brightness(img, max_delta=0.2)\n",
        "        img = tf.image.random_contrast(img, lower=0.8, upper=1.2)\n",
        "        return img\n",
        "\n",
        "    def test_on_dataset(self, dataset: Dataset, limit=None):\n",
        "        images = dataset.images\n",
        "        labels = dataset.labels\n",
        "\n",
        "        if limit:\n",
        "            n_samples = int(len(images) * limit)\n",
        "            images = images[:n_samples]\n",
        "            labels = labels[:n_samples]\n",
        "\n",
        "        test_ds = self.prepare_dataset(images, labels, batch_size=32)\n",
        "\n",
        "        predictions = self.model.predict(test_ds)\n",
        "        predicted_classes = np.argmax(predictions, axis=1)\n",
        "\n",
        "        print(\"report:\")\n",
        "        print(classification_report(labels, predicted_classes, target_names=TISSUE_CLASSES))\n",
        "\n",
        "        cm = confusion_matrix(labels, predicted_classes) #LBL5\n",
        "        plt.figure(figsize=(10, 8))\n",
        "        sns.heatmap(cm, annot=True, fmt='d', cmap='Blues', xticklabels=TISSUE_CLASSES, yticklabels=TISSUE_CLASSES)\n",
        "        plt.xlabel('predicted')\n",
        "        plt.ylabel('true')\n",
        "        plt.title('confusion matrix')\n",
        "        plt.show()\n",
        "\n",
        "        return predicted_classes\n",
        "\n",
        "    def test_on_image(self, img: np.ndarray):\n",
        "        img = tf.image.convert_image_dtype(img, tf.float32)\n",
        "        img = tf.image.resize(img, [224, 224])\n",
        "        img = tf.expand_dims(img, axis=0)\n",
        "\n",
        "        predictions = self.model.predict(img)\n",
        "        predicted_class = np.argmax(predictions, axis=1)[0]\n",
        "        return predicted_class\n"
      ]
    },
    {
      "cell_type": "markdown",
      "metadata": {
        "id": "ZMpTB6lMr00A"
      },
      "source": [
        "---\n",
        "### Классификация изображений\n",
        "\n",
        "Используя введенные выше классы можем перейти уже непосредственно к обучению модели классификации изображений. Пример общего пайплайна решения задачи приведен ниже. Вы можете его расширять и улучшать. В данном примере используются наборы данных 'train_small' и 'test_small'."
      ]
    },
    {
      "cell_type": "code",
      "execution_count": 28,
      "metadata": {
        "id": "5cTOuZD01Up6",
        "colab": {
          "base_uri": "https://localhost:8080/"
        },
        "outputId": "b78dc0d2-325a-434d-ddc7-546efb455aac"
      },
      "outputs": [
        {
          "output_type": "stream",
          "name": "stdout",
          "text": [
            "Downloading data train from /content/drive/MyDrive/train.npz.\n",
            "Ready, dataset train contains 18000 images.\n",
            "Downloading data test from /content/drive/MyDrive/test.npz.\n",
            "Ready, dataset test contains 4500 images.\n",
            "Model is ready\n"
          ]
        },
        {
          "output_type": "stream",
          "name": "stderr",
          "text": [
            "Downloading...\n",
            "From: https://drive.google.com/uc?id=1_osFE42zSXnIGh6v9GqzSlS03JOPlgEL\n",
            "To: /content/drive/MyDrive/best_model.keras\n",
            "100%|██████████| 7.94M/7.94M [00:00<00:00, 46.2MB/s]\n"
          ]
        },
        {
          "output_type": "stream",
          "name": "stdout",
          "text": [
            "Model downloaded /content/drive/MyDrive/best_model.keras.\n"
          ]
        }
      ],
      "source": [
        "d_train = Dataset('train')\n",
        "d_test = Dataset('test')\n",
        "\n",
        "model = Model()\n",
        "\n",
        "if not EVALUATE_ONLY:\n",
        "    model.train(d_train)\n",
        "    model.save('best_model')\n",
        "else:\n",
        "    model.load('best_model')"
      ]
    },
    {
      "cell_type": "markdown",
      "metadata": {
        "id": "mSwvHVVzVWZ5"
      },
      "source": [
        "Пример тестирования модели на полном наборе данных:"
      ]
    },
    {
      "cell_type": "code",
      "execution_count": 29,
      "metadata": {
        "id": "mjI_sbMi3TMY",
        "colab": {
          "base_uri": "https://localhost:8080/",
          "height": 1000
        },
        "outputId": "bc8b01d8-360f-42e1-a8ee-6970b9817782"
      },
      "outputs": [
        {
          "output_type": "stream",
          "name": "stdout",
          "text": [
            "\u001b[1m141/141\u001b[0m \u001b[32m━━━━━━━━━━━━━━━━━━━━\u001b[0m\u001b[37m\u001b[0m \u001b[1m7s\u001b[0m 23ms/step\n",
            "report:\n",
            "              precision    recall  f1-score   support\n",
            "\n",
            "         ADI       1.00      0.97      0.99       500\n",
            "        BACK       0.96      1.00      0.98       500\n",
            "         DEB       0.97      0.93      0.95       500\n",
            "         LYM       1.00      0.99      1.00       500\n",
            "         MUC       0.96      0.97      0.97       500\n",
            "         MUS       0.97      0.98      0.98       500\n",
            "        NORM       0.97      0.96      0.97       500\n",
            "         STR       0.90      0.97      0.93       500\n",
            "         TUM       0.98      0.95      0.96       500\n",
            "\n",
            "    accuracy                           0.97      4500\n",
            "   macro avg       0.97      0.97      0.97      4500\n",
            "weighted avg       0.97      0.97      0.97      4500\n",
            "\n"
          ]
        },
        {
          "output_type": "display_data",
          "data": {
            "text/plain": [
              "<Figure size 1000x800 with 2 Axes>"
            ],
            "image/png": "[encoded data removed]"
          },
          "metadata": {}
        },
        {
          "output_type": "stream",
          "name": "stdout",
          "text": [
            "metrics for test:\n",
            "\t accuracy 0.9691:\n",
            "\t balanced accuracy 0.9691:\n",
            "[0 0 0 ... 8 8 8]\n"
          ]
        }
      ],
      "source": [
        "# evaluating model on full test dataset (may take time)\n",
        "if TEST_ON_LARGE_DATASET:\n",
        "    pred_2 = model.test_on_dataset(d_test)\n",
        "    Metrics.print_all(d_test.labels, pred_2, 'test')\n",
        "    print(pred_2)"
      ]
    },
    {
      "cell_type": "markdown",
      "metadata": {
        "id": "RzSKAvVI6uCW"
      },
      "source": [
        "### Тестирование модели на других наборах данных\n",
        "\n",
        "Ваша модель должна поддерживать тестирование на других наборах данных. Для удобства, Вам предоставляется набор данных test_tiny, который представляет собой малую часть (2% изображений) набора test. Ниже приведен фрагмент кода, который будет осуществлять тестирование для оценивания Вашей модели на дополнительных тестовых наборах данных.\n",
        "\n",
        "<font color=\"red\">\n",
        "Прежде чем отсылать задание на проверку, убедитесь в работоспособности фрагмента кода ниже.\n",
        "</font>"
      ]
    },
    {
      "cell_type": "code",
      "execution_count": null,
      "metadata": {
        "id": "sdY3uTt87tqv",
        "colab": {
          "base_uri": "https://localhost:8080/",
          "height": 1000
        },
        "outputId": "64676c8c-3cfa-4915-8023-cb501f28fab5"
      },
      "outputs": [
        {
          "output_type": "stream",
          "name": "stdout",
          "text": [
            "Model is ready\n",
            "Model downloaded /content/drive/MyDrive/best_model.keras.\n",
            "Downloading data test_small from /content/drive/MyDrive/test_small.npz.\n",
            "Ready, dataset test_small contains 1800 images.\n",
            "\u001b[1m57/57\u001b[0m \u001b[32m━━━━━━━━━━━━━━━━━━━━\u001b[0m\u001b[37m\u001b[0m \u001b[1m2s\u001b[0m 27ms/step\n",
            "report:\n",
            "              precision    recall  f1-score   support\n",
            "\n",
            "         ADI       1.00      0.98      0.99       200\n",
            "        BACK       1.00      0.98      0.99       200\n",
            "         DEB       0.94      0.93      0.93       200\n",
            "         LYM       0.99      0.99      0.99       200\n",
            "         MUC       0.95      0.98      0.97       200\n",
            "         MUS       0.90      0.97      0.94       200\n",
            "        NORM       0.94      0.97      0.95       200\n",
            "         STR       0.93      0.86      0.89       200\n",
            "         TUM       0.99      0.94      0.97       200\n",
            "\n",
            "    accuracy                           0.96      1800\n",
            "   macro avg       0.96      0.96      0.96      1800\n",
            "weighted avg       0.96      0.96      0.96      1800\n",
            "\n"
          ]
        },
        {
          "output_type": "display_data",
          "data": {
            "text/plain": [
              "<Figure size 1000x800 with 2 Axes>"
            ],
            "image/png": "[encoded data removed]"
          },
          "metadata": {}
        },
        {
          "output_type": "stream",
          "name": "stdout",
          "text": [
            "metrics for test_small:\n",
            "\t accuracy 0.9583:\n",
            "\t balanced accuracy 0.9583:\n"
          ]
        }
      ],
      "source": [
        "final_model = Model()\n",
        "final_model.load('best_model')\n",
        "d_test_tiny = Dataset('test_small')\n",
        "pred = model.test_on_dataset(d_test_tiny)\n",
        "Metrics.print_all(d_test_tiny.labels, pred, 'test_small')"
      ]
    },
    {
      "cell_type": "markdown",
      "metadata": {
        "id": "lPvyj4gscU10"
      },
      "source": [
        "Отмонтировать Google Drive."
      ]
    },
    {
      "cell_type": "code",
      "execution_count": null,
      "metadata": {
        "id": "NfX35zNSvFWn"
      },
      "outputs": [],
      "source": [
        "drive.flush_and_unmount()"
      ]
    }
  ],
  "metadata": {
    "colab": {
      "provenance": [],
      "gpuType": "T4"
    },
    "kernelspec": {
      "display_name": "Python 3",
      "name": "python3"
    },
    "language_info": {
      "name": "python",
      "version": "3.10.4"
    },
    "vscode": {
      "interpreter": {
        "hash": "7af69d84c46e0da4f71f361435e72c01e713b5d1fcbc89c051c042527a934273"
      }
    },
    "accelerator": "GPU"
  },
  "nbformat": 4,
  "nbformat_minor": 0
}